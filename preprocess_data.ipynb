{
 "cells": [
  {
   "cell_type": "code",
   "execution_count": 8,
   "metadata": {},
   "outputs": [],
   "source": [
    "import numpy as np\n",
    "import pandas as pd"
   ]
  },
  {
   "cell_type": "code",
   "execution_count": 9,
   "metadata": {},
   "outputs": [],
   "source": [
    "def preprocess_chemicals(dataset_name = \"chemicals.csv\", yearbound=2000):\n",
    "    df = pd.read_csv(dataset_name)\n",
    "    for i, c in enumerate(df[\"contaminant_level\"].unique()):\n",
    "        df.loc[df[\"contaminant_level\"]==c, \"contaminant_level\"] = i\n",
    "    return df"
   ]
  },
  {
   "cell_type": "code",
   "execution_count": 10,
   "metadata": {},
   "outputs": [],
   "source": [
    "def preprocess_droughts(dataset_name='droughts', year_bound=2000):\n",
    "    dataset_path = dataset_name + '.csv'\n",
    "    df = pd.read_csv(dataset_path)\n",
    "    valid_start = list(df['valid_start'])\n",
    "    valid_start = list(map(lambda x: int(x[0:4]), valid_start))\n",
    "    df['valid_start'] = valid_start\n",
    "    valid_end = list(df['valid_end'])\n",
    "    valid_end = list(map(lambda x: int(x[0:4]), valid_end))\n",
    "    df['valid_end'] = valid_end\n",
    "    valid_dates = df['valid_start'] >= year_bound\n",
    "    df = df[valid_dates]\n",
    "    df.to_csv(dataset_name + '_processed.csv', index=False)\n",
    "    df['year'] = list(df['valid_start'])\n",
    "    return df"
   ]
  },
  {
   "cell_type": "code",
   "execution_count": 11,
   "metadata": {},
   "outputs": [],
   "source": [
    "def preprocess_earnings(dataset_name='earnings', year_bound=2000):\n",
    "    dataset_path = dataset_name + '.csv'\n",
    "    df = pd.read_csv(dataset_path)\n",
    "    df_mod = pd.DataFrame({'fips':df['fips'], 'county':df['county'], 'total_med':df['total_med'], 'year':df['year']})\n",
    "    df.to_csv(dataset_name + '_processed.csv', index=False)\n",
    "    possible_years = df['year'] >= year_bound\n",
    "    df = df[possible_years]\n",
    "    return df"
   ]
  },
  {
   "cell_type": "code",
   "execution_count": 12,
   "metadata": {},
   "outputs": [],
   "source": [
    "def preprocess_education_attainment(dataset_name=\"education_attainment.csv\", yearbound=2000):\n",
    "    df = pd.read_csv(dataset_name)\n",
    "    df = df.loc[df[\"year\"]>=yearbound]\n",
    "    return df"
   ]
  },
  {
   "cell_type": "code",
   "execution_count": 13,
   "metadata": {},
   "outputs": [],
   "source": [
    "def preprocess_industry_occupation(dataset_name='industry_occupation', year_bound=2000):\n",
    "    dataset_path = dataset_name + '.csv'\n",
    "    df = pd.read_csv(dataset_path)\n",
    "    df = df[df['year'] > year_bound]\n",
    "    df.to_csv(dataset_name + '_processed.csv', index=False)\n",
    "    return df\n"
   ]
  },
  {
   "cell_type": "code",
   "execution_count": 14,
   "metadata": {},
   "outputs": [],
   "source": [
    "def preprocess_water_usage(dataset_name = \"water_usage.csv\", yearbound=2000):\n",
    "    df = pd.read_csv(\"water_usage.csv\")\n",
    "    df = df.drop(['ps_groundwater', 'ps_surfacewater'], axis=1)\n",
    "    return df"
   ]
  },
  {
   "cell_type": "code",
   "execution_count": 15,
   "metadata": {},
   "outputs": [],
   "source": [
    "preprocess_chemicals().to_csv(\"chemicals_processed.csv\")\n",
    "preprocess_droughts().to_csv(\"droughts_processed.csv\")\n",
    "preprocess_earnings().to_csv(\"earnings_processed.csv\")\n",
    "preprocess_education_attainment().to_csv(\"education_attainment_processed.csv\")\n",
    "preprocess_industry_occupation().to_csv(\"industry_occupation_processed.csv\")\n",
    "preprocess_water_usage().to_csv(\"water_usage_processed.csv\")"
   ]
  }
 ],
 "metadata": {
  "kernelspec": {
   "display_name": "Python 3",
   "language": "python",
   "name": "python3"
  },
  "language_info": {
   "codemirror_mode": {
    "name": "ipython",
    "version": 3
   },
   "file_extension": ".py",
   "mimetype": "text/x-python",
   "name": "python",
   "nbconvert_exporter": "python",
   "pygments_lexer": "ipython3",
   "version": "3.5.1"
  }
 },
 "nbformat": 4,
 "nbformat_minor": 2
}
