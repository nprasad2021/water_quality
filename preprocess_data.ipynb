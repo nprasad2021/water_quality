{
 "cells": [
  {
   "cell_type": "code",
   "execution_count": 2,
   "metadata": {},
   "outputs": [],
   "source": [
    "import numpy as np\n",
    "import pandas as pd"
   ]
  },
  {
   "cell_type": "code",
   "execution_count": 3,
   "metadata": {},
   "outputs": [],
   "source": [
    "def preprocess_industry_occupation(dataset_name='industry_occupation', year_bound=2000):\n",
    "    dataset_path = dataset_name + '.csv'\n",
    "    df = pd.read_csv(dataset_path)\n",
    "    df = df[df['year'] > year_bound]\n",
    "    df.to_csv(dataset_name + '_processed.csv', index=False)\n",
    "    return df\n"
   ]
  },
  {
   "cell_type": "code",
   "execution_count": 4,
   "metadata": {},
   "outputs": [],
   "source": [
    "def preprocess_earnings(dataset_name='earnings', year_bound=2000):\n",
    "    dataset_path = dataset_name + '.csv'\n",
    "    df = pd.read_csv(dataset_path)\n",
    "    df_mod = pd.DataFrame({'fips':df['fips'], 'county':df['county'], 'total_med':df['total_med'], 'year':df['year']})\n",
    "    df.to_csv(dataset_name + '_processed.csv', index=False)\n",
    "    possible_years = df['year'] >= year_bound\n",
    "    df = df[possible_years]\n",
    "    return df"
   ]
  },
  {
   "cell_type": "code",
   "execution_count": 5,
   "metadata": {},
   "outputs": [],
   "source": [
    "def preprocess_droughts(dataset_name='droughts', year_bound=2000):\n",
    "    dataset_path = dataset_name + '.csv'\n",
    "    df = pd.read_csv(dataset_path)\n",
    "    valid_start = list(df['valid_start'])\n",
    "    valid_start = list(map(lambda x: int(x[0:4]), valid_start))\n",
    "    df['valid_start'] = valid_start\n",
    "    valid_end = list(df['valid_end'])\n",
    "    valid_end = list(map(lambda x: int(x[0:4]), valid_end))\n",
    "    df['valid_end'] = valid_end\n",
    "    valid_dates = df['valid_start'] >= year_bound\n",
    "    df = df[valid_dates]\n",
    "    df.to_csv(dataset_name + '_processed.csv', index=False)\n",
    "    df['year'] = list(df['valid_start'])\n",
    "    return df"
   ]
  },
  {
   "cell_type": "code",
   "execution_count": null,
   "metadata": {},
   "outputs": [],
   "source": []
  }
 ],
 "metadata": {
  "kernelspec": {
   "display_name": "Python 3",
   "language": "python",
   "name": "python3"
  },
  "language_info": {
   "codemirror_mode": {
    "name": "ipython",
    "version": 3
   },
   "file_extension": ".py",
   "mimetype": "text/x-python",
   "name": "python",
   "nbconvert_exporter": "python",
   "pygments_lexer": "ipython3",
   "version": "3.6.4"
  }
 },
 "nbformat": 4,
 "nbformat_minor": 2
}
