{
 "cells": [
  {
   "cell_type": "code",
   "execution_count": 4,
   "metadata": {},
   "outputs": [],
   "source": [
    "import numpy as np\n",
    "import pandas as pd"
   ]
  },
  {
   "cell_type": "code",
   "execution_count": 5,
   "metadata": {},
   "outputs": [],
   "source": [
    "def join_two_dataset(df, other_df, fields, how='left'):\n",
    "    return pd.merge(df, other_df, on=fields)\n",
    "    return df"
   ]
  },
  {
   "cell_type": "code",
   "execution_count": 6,
   "metadata": {},
   "outputs": [],
   "source": [
    "def join_multiple_datasets(list_of_dfs, fields=['fips']):\n",
    "    main_df = df[0]\n",
    "    for df_index in range(1,len(list_of_dfs)):\n",
    "        main_df = join_two_dataset(main_df, list_of_dfs[df_index], fields)\n",
    "    return main_df"
   ]
  },
  {
   "cell_type": "code",
   "execution_count": 7,
   "metadata": {},
   "outputs": [],
   "source": [
    "def generate_dfs():\n",
    "    all_dfs = {}\n",
    "    all_dfs['water_usage'] = preprocess_water_usage()\n",
    "    all_dfs['industry_occupation'] = preprocess_industry_occupation()\n",
    "    all_dfs['chemicals'] = preprocess_chemicals()\n",
    "    all_dfs['droughts'] = preprocess_droughts()\n",
    "    all_dfs['earnings'] = preprocess_earnings()\n",
    "    all_dfs['education_attainment'] = preprocess_education_attainment()\n",
    "    return all_dfs\n",
    "\n",
    "'''\n",
    "df_names_to_join: list\n",
    "fields: list\n",
    "'''\n",
    "def join(df_names_to_join, fields=['fips']):\n",
    "    \n",
    "    all_dfs = generate_dfs()\n",
    "    process_dfs = []\n",
    "    \n",
    "    for df_name in df_names_to_join:\n",
    "        process_dfs.append(all_dfs[df_name])\n",
    "        \n",
    "    joined_df = join_multiple_datasets(process_dfs, fields)\n",
    "    return joined"
   ]
  },
  {
   "cell_type": "code",
   "execution_count": null,
   "metadata": {},
   "outputs": [],
   "source": []
  },
  {
   "cell_type": "code",
   "execution_count": null,
   "metadata": {},
   "outputs": [],
   "source": []
  },
  {
   "cell_type": "code",
   "execution_count": null,
   "metadata": {},
   "outputs": [],
   "source": []
  }
 ],
 "metadata": {
  "kernelspec": {
   "display_name": "Python 3",
   "language": "python",
   "name": "python3"
  },
  "language_info": {
   "codemirror_mode": {
    "name": "ipython",
    "version": 3
   },
   "file_extension": ".py",
   "mimetype": "text/x-python",
   "name": "python",
   "nbconvert_exporter": "python",
   "pygments_lexer": "ipython3",
   "version": "3.6.4"
  }
 },
 "nbformat": 4,
 "nbformat_minor": 2
}
