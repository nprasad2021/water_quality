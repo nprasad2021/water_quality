{
 "cells": [
  {
   "cell_type": "code",
   "execution_count": 8,
   "metadata": {},
   "outputs": [],
   "source": [
    "import numpy as np\n",
    "import pandas as pd"
   ]
  },
  {
   "cell_type": "markdown",
   "metadata": {},
   "source": [
    "## Preprocessing Operations "
   ]
  },
  {
   "cell_type": "code",
   "execution_count": 9,
   "metadata": {},
   "outputs": [],
   "source": [
    "def preprocess_chemicals(dataset_name = \"chemicals.csv\", yearbound=2000):\n",
    "    df = pd.read_csv(dataset_name)\n",
    "    for i, c in enumerate(df[\"contaminant_level\"].unique()):\n",
    "        df.loc[df[\"contaminant_level\"]==c, \"contaminant_level\"] = i\n",
    "    return df"
   ]
  },
  {
   "cell_type": "code",
   "execution_count": 10,
   "metadata": {},
   "outputs": [],
   "source": [
    "def preprocess_droughts(dataset_name='droughts', year_bound=2000):\n",
    "    dataset_path = dataset_name + '.csv'\n",
    "    df = pd.read_csv(dataset_path)\n",
    "    valid_start = list(df['valid_start'])\n",
    "    valid_start = list(map(lambda x: int(x[0:4]), valid_start))\n",
    "    df['valid_start'] = valid_start\n",
    "    valid_end = list(df['valid_end'])\n",
    "    valid_end = list(map(lambda x: int(x[0:4]), valid_end))\n",
    "    df['valid_end'] = valid_end\n",
    "    valid_dates = df['valid_start'] >= year_bound\n",
    "    df = df[valid_dates]\n",
    "    df.to_csv(dataset_name + '_processed.csv', index=False)\n",
    "    df['year'] = list(df['valid_start'])\n",
    "    return df"
   ]
  },
  {
   "cell_type": "code",
   "execution_count": 11,
   "metadata": {},
   "outputs": [],
   "source": [
    "def preprocess_earnings(dataset_name='earnings', year_bound=2000):\n",
    "    dataset_path = dataset_name + '.csv'\n",
    "    df = pd.read_csv(dataset_path)\n",
    "    df_mod = pd.DataFrame({'fips':df['fips'], 'county':df['county'], 'total_med':df['total_med'], 'year':df['year']})\n",
    "    df.to_csv(dataset_name + '_processed.csv', index=False)\n",
    "    possible_years = df['year'] >= year_bound\n",
    "    df = df[possible_years]\n",
    "    return df"
   ]
  },
  {
   "cell_type": "code",
   "execution_count": 12,
   "metadata": {},
   "outputs": [],
   "source": [
    "def preprocess_education_attainment(dataset_name=\"education_attainment.csv\", yearbound=2000):\n",
    "    df = pd.read_csv(dataset_name)\n",
    "    df = df.loc[df[\"year\"]>=yearbound]\n",
    "    return df"
   ]
  },
  {
   "cell_type": "code",
   "execution_count": 13,
   "metadata": {},
   "outputs": [],
   "source": [
    "def preprocess_industry_occupation(dataset_name='industry_occupation', year_bound=2000):\n",
    "    dataset_path = dataset_name + '.csv'\n",
    "    df = pd.read_csv(dataset_path)\n",
    "    df = df[df['year'] > year_bound]\n",
    "    df.to_csv(dataset_name + '_processed.csv', index=False)\n",
    "    return df\n"
   ]
  },
  {
   "cell_type": "code",
   "execution_count": 14,
   "metadata": {},
   "outputs": [],
   "source": [
    "def preprocess_water_usage(dataset_name = \"water_usage.csv\", yearbound=2000):\n",
    "    df = pd.read_csv(\"water_usage.csv\")\n",
    "    df = df.drop(['ps_groundwater', 'ps_surfacewater'], axis=1)\n",
    "    return df"
   ]
  },
  {
   "cell_type": "code",
   "execution_count": 6,
   "metadata": {},
   "outputs": [
    {
     "ename": "NameError",
     "evalue": "name 'preprocess_chemicals' is not defined",
     "output_type": "error",
     "traceback": [
      "\u001b[0;31m---------------------------------------------------------------------------\u001b[0m",
      "\u001b[0;31mNameError\u001b[0m                                 Traceback (most recent call last)",
      "\u001b[0;32m<ipython-input-6-60afd0efffcb>\u001b[0m in \u001b[0;36m<module>\u001b[0;34m()\u001b[0m\n\u001b[0;32m----> 1\u001b[0;31m \u001b[0mpreprocess_chemicals\u001b[0m\u001b[0;34m(\u001b[0m\u001b[0;34m)\u001b[0m\u001b[0;34m.\u001b[0m\u001b[0mto_csv\u001b[0m\u001b[0;34m(\u001b[0m\u001b[0;34m\"chemicals_processed.csv\"\u001b[0m\u001b[0;34m)\u001b[0m\u001b[0;34m\u001b[0m\u001b[0m\n\u001b[0m\u001b[1;32m      2\u001b[0m \u001b[0mpreprocess_droughts\u001b[0m\u001b[0;34m(\u001b[0m\u001b[0;34m)\u001b[0m\u001b[0;34m.\u001b[0m\u001b[0mto_csv\u001b[0m\u001b[0;34m(\u001b[0m\u001b[0;34m\"droughts_processed.csv\"\u001b[0m\u001b[0;34m)\u001b[0m\u001b[0;34m\u001b[0m\u001b[0m\n\u001b[1;32m      3\u001b[0m \u001b[0mpreprocess_earnings\u001b[0m\u001b[0;34m(\u001b[0m\u001b[0;34m)\u001b[0m\u001b[0;34m.\u001b[0m\u001b[0mto_csv\u001b[0m\u001b[0;34m(\u001b[0m\u001b[0;34m\"earnings_processed.csv\"\u001b[0m\u001b[0;34m)\u001b[0m\u001b[0;34m\u001b[0m\u001b[0m\n\u001b[1;32m      4\u001b[0m \u001b[0mpreprocess_education_attainment\u001b[0m\u001b[0;34m(\u001b[0m\u001b[0;34m)\u001b[0m\u001b[0;34m.\u001b[0m\u001b[0mto_csv\u001b[0m\u001b[0;34m(\u001b[0m\u001b[0;34m\"education_attainment_processed.csv\"\u001b[0m\u001b[0;34m)\u001b[0m\u001b[0;34m\u001b[0m\u001b[0m\n\u001b[1;32m      5\u001b[0m \u001b[0mpreprocess_industry_occupation\u001b[0m\u001b[0;34m(\u001b[0m\u001b[0;34m)\u001b[0m\u001b[0;34m.\u001b[0m\u001b[0mto_csv\u001b[0m\u001b[0;34m(\u001b[0m\u001b[0;34m\"industry_occupation_processed.csv\"\u001b[0m\u001b[0;34m)\u001b[0m\u001b[0;34m\u001b[0m\u001b[0m\n",
      "\u001b[0;31mNameError\u001b[0m: name 'preprocess_chemicals' is not defined"
     ]
    }
   ],
   "source": [
    "preprocess_chemicals().to_csv(\"chemicals_processed.csv\")\n",
    "preprocess_droughts().to_csv(\"droughts_processed.csv\")\n",
    "preprocess_earnings().to_csv(\"earnings_processed.csv\")\n",
    "preprocess_education_attainment().to_csv(\"education_attainment_processed.csv\")\n",
    "preprocess_industry_occupation().to_csv(\"industry_occupation_processed.csv\")\n",
    "preprocess_water_usage().to_csv(\"water_usage_processed.csv\")"
   ]
  },
  {
   "cell_type": "markdown",
   "metadata": {},
   "source": [
    "## Joining Operations"
   ]
  },
  {
   "cell_type": "code",
   "execution_count": 8,
   "metadata": {},
   "outputs": [],
   "source": [
    "def join_two_dataset(df, other_df, fields, how='left'):\n",
    "    df.join(other=other_df, on=field, how=how)\n",
    "    return df\n",
    "\n",
    "def join_multiple_datasets(list_of_dfs, fields=['fips']):\n",
    "    main_df = df[0]\n",
    "    for df_index in range(1,len(list_of_dfs)):\n",
    "        main_df = join_two_dataset(main_df, list_of_dfs[df_index], fields)\n",
    "    return main_df\n",
    "\n",
    "def generate_dfs():\n",
    "    all_dfs = {}\n",
    "    all_dfs['water_usage'] = preprocess_water_usage()\n",
    "    all_dfs['industry_occupation'] = preprocess_industry_occupation()\n",
    "    all_dfs['chemicals'] = preprocess_chemicals()\n",
    "    all_dfs['droughts'] = preprocess_droughts()\n",
    "    all_dfs['earnings'] = preprocess_earnings()\n",
    "    all_dfs['education_attainment'] = preprocess_education_attainment()\n",
    "    return all_dfs\n",
    "\n",
    "'''\n",
    "df_names_to_join: list\n",
    "fields: list\n",
    "'''\n",
    "def join(df_names_to_join, fields=['fips']):\n",
    "    \n",
    "    all_dfs = generate_dfs()\n",
    "    process_dfs = []\n",
    "    \n",
    "    for df_name in df_names_to_join:\n",
    "        process_dfs.append(all_dfs[df_name])\n",
    "        \n",
    "    joined_df = join_multiple_datasets(process_dfs, fields)\n",
    "    return joined"
   ]
  },
  {
   "cell_type": "code",
   "execution_count": null,
   "metadata": {},
   "outputs": [],
   "source": [
    "all_df_names = ['water_usage', 'industry_occupation']"
   ]
  }
 ],
 "metadata": {
  "kernelspec": {
   "display_name": "Python 3",
   "language": "python",
   "name": "python3"
  },
  "language_info": {
   "codemirror_mode": {
    "name": "ipython",
    "version": 3
   },
   "file_extension": ".py",
   "mimetype": "text/x-python",
   "name": "python",
   "nbconvert_exporter": "python",
   "pygments_lexer": "ipython3",
   "version": "3.6.4"
  }
 },
 "nbformat": 4,
 "nbformat_minor": 2
}
