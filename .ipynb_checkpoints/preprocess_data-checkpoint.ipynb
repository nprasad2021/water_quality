{
 "cells": [
  {
   "cell_type": "code",
   "execution_count": null,
   "metadata": {},
   "outputs": [],
   "source": [
    "import numpy as np\n",
    "import pandas as pd"
   ]
  },
  {
   "cell_type": "markdown",
   "metadata": {},
   "source": [
    "## Preprocessing Operations "
   ]
  },
  {
   "cell_type": "code",
   "execution_count": null,
   "metadata": {},
   "outputs": [],
   "source": [
    "def preprocess_chemicals(dataset_name = \"chemicals.csv\", yearbound=2000):\n",
    "    df = pd.read_csv(dataset_name)\n",
    "    for i, c in enumerate(df[\"contaminant_level\"].unique()):\n",
    "        df.loc[df[\"contaminant_level\"]==c, \"contaminant_level\"] = i\n",
    "    return df"
   ]
  },
  {
   "cell_type": "code",
   "execution_count": null,
   "metadata": {},
   "outputs": [],
   "source": [
    "def preprocess_droughts(dataset_name='droughts', year_bound=2000):\n",
    "    dataset_path = dataset_name + '.csv'\n",
    "    df = pd.read_csv(dataset_path)\n",
    "    valid_start = list(df['valid_start'])\n",
    "    valid_start = list(map(lambda x: int(x[0:4]), valid_start))\n",
    "    df['valid_start'] = valid_start\n",
    "    valid_end = list(df['valid_end'])\n",
    "    valid_end = list(map(lambda x: int(x[0:4]), valid_end))\n",
    "    df['valid_end'] = valid_end\n",
    "    valid_dates = df['valid_start'] >= year_bound\n",
    "    df = df[valid_dates]\n",
    "    df.to_csv(dataset_name + '_processed.csv', index=False)\n",
    "    df['year'] = list(df['valid_start'])\n",
    "    return df"
   ]
  },
  {
   "cell_type": "code",
   "execution_count": null,
   "metadata": {},
   "outputs": [],
   "source": [
    "def preprocess_earnings(dataset_name='earnings', year_bound=2000):\n",
    "    dataset_path = dataset_name + '.csv'\n",
    "    df = pd.read_csv(dataset_path)\n",
    "    df_mod = pd.DataFrame({'fips':df['fips'], 'county':df['county'], 'total_med':df['total_med'], 'year':df['year']})\n",
    "    df.to_csv(dataset_name + '_processed.csv', index=False)\n",
    "    possible_years = df['year'] >= year_bound\n",
    "    df = df[possible_years]\n",
    "    return df"
   ]
  },
  {
   "cell_type": "code",
   "execution_count": null,
   "metadata": {},
   "outputs": [],
   "source": [
    "def preprocess_education_attainment(dataset_name=\"education_attainment\", yearbound=2000):\n",
    "    df = pd.read_csv(dataset_name + '.csv')\n",
    "    df = df.loc[df[\"year\"]>=yearbound]\n",
    "    return df"
   ]
  },
  {
   "cell_type": "code",
   "execution_count": null,
   "metadata": {},
   "outputs": [],
   "source": [
    "def preprocess_industry_occupation(dataset_name='industry_occupation', year_bound=2000):\n",
    "    dataset_path = dataset_name + '.csv'\n",
    "    df = pd.read_csv(dataset_path)\n",
    "    df = df[df['year'] > year_bound]\n",
    "    df.to_csv(dataset_name + '_processed.csv', index=False)\n",
    "    return df\n"
   ]
  },
  {
   "cell_type": "code",
   "execution_count": null,
   "metadata": {},
   "outputs": [],
   "source": [
    "def preprocess_water_usage(dataset_name = \"water_usage\", yearbound=2000):\n",
    "    df = pd.read_csv(\"water_usage.csv\")\n",
    "    df = df.drop(['ps_groundwater', 'ps_surfacewater'], axis=1)\n",
    "    return df"
   ]
  },
  {
   "cell_type": "code",
   "execution_count": null,
   "metadata": {},
   "outputs": [],
   "source": [
    "preprocess_chemicals().to_csv(\"chemicals_processed.csv\")\n",
    "preprocess_droughts().to_csv(\"droughts_processed.csv\")\n",
    "preprocess_earnings().to_csv(\"earnings_processed.csv\")\n",
    "preprocess_education_attainment().to_csv(\"education_attainment_processed.csv\")\n",
    "preprocess_industry_occupation().to_csv(\"industry_occupation_processed.csv\")\n",
    "preprocess_water_usage().to_csv(\"water_usage_processed.csv\")"
   ]
  },
  {
   "cell_type": "markdown",
   "metadata": {},
   "source": [
    "## Joining Operations"
   ]
  },
  {
   "cell_type": "code",
   "execution_count": null,
   "metadata": {},
   "outputs": [],
   "source": [
    "'''\n",
    "@param df : pandas dataframe\n",
    "@param other_df : another pandas dataframe\n",
    "@reurn merge of two dataframes\n",
    "'''\n",
    "def join_two_datasets(df, other_df, fields):\n",
    "\n",
    "    df['fips'] = df['fips'].astype(int)\n",
    "    other_df['fips'] = other_df['fips'].astype(int)\n",
    "    return pd.merge(df, other_df, on=fields)\n",
    "\n",
    "'''\n",
    "@return dictionary mapping name to pandas data frame\n",
    "'''\n",
    "def generate_dfs():\n",
    "    all_dfs = {}\n",
    "    all_dfs['water_usage'] = preprocess_water_usage()\n",
    "    all_dfs['industry_occupation'] = preprocess_industry_occupation()\n",
    "    all_dfs['chemicals'] = preprocess_chemicals()\n",
    "    all_dfs['droughts'] = preprocess_droughts()\n",
    "    all_dfs['earnings'] = preprocess_earnings()\n",
    "    all_dfs['education_attainment'] = preprocess_education_attainment()\n",
    "    return all_dfs"
   ]
  },
  {
   "cell_type": "code",
   "execution_count": null,
   "metadata": {},
   "outputs": [],
   "source": [
    "all_dfs = generate_dfs()\n",
    "water_usage_df = all_dfs['water_usage']\n",
    "earnings_df = all_dfs['earnings']"
   ]
  },
  {
   "cell_type": "code",
   "execution_count": null,
   "metadata": {},
   "outputs": [],
   "source": [
    "new_df = join_two_datasets(water_usage_df, earnings_df, fields='fips')"
   ]
  }
 ],
 "metadata": {
  "kernelspec": {
   "display_name": "Python 3",
   "language": "python",
   "name": "python3"
  },
  "language_info": {
   "codemirror_mode": {
    "name": "ipython",
    "version": 3
   },
   "file_extension": ".py",
   "mimetype": "text/x-python",
   "name": "python",
   "nbconvert_exporter": "python",
   "pygments_lexer": "ipython3",
   "version": "3.6.4"
  }
 },
 "nbformat": 4,
 "nbformat_minor": 2
}
