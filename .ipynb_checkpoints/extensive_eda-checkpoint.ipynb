{
 "cells": [
  {
   "cell_type": "code",
   "execution_count": 1,
   "metadata": {},
   "outputs": [],
   "source": [
    "\n",
    "import pandas as pd\n",
    "import matplotlib.pyplot as plt\n",
    "import seaborn as sns\n",
    "import numpy as np\n",
    "from scipy.stats import norm\n",
    "from scipy import stats\n",
    "import sklearn\n",
    "import plotly.plotly as py\n",
    "import warnings\n",
    "warnings.filterwarnings('ignore')\n",
    "%matplotlib inline"
   ]
  },
  {
   "cell_type": "code",
   "execution_count": 2,
   "metadata": {},
   "outputs": [],
   "source": [
    "def join_two_datasets(df, other_df, fields):\n",
    "\n",
    "    df['fips'] = df['fips'].astype(int)\n",
    "    other_df['fips'] = other_df['fips'].astype(int)\n",
    "    return pd.merge(df, other_df, on=fields, how='inner')\n",
    "\n",
    "def read_csv(df_name):\n",
    "    return pd.read_csv(df_name + '_processed.csv')"
   ]
  },
  {
   "cell_type": "code",
   "execution_count": 3,
   "metadata": {},
   "outputs": [
    {
     "data": {
      "text/plain": [
       "Index(['geo_id', 'fips', 'county_x', 'total_med', 'total_agri_fish_mine',\n",
       "       'agri_fish_hunt', 'mining_quarrying_oilgas_extract', 'construction',\n",
       "       'manufacturing', 'wholesale_trade', 'retail_trade',\n",
       "       'transport_warehouse_utilities', 'transport_warehouse', 'utilities',\n",
       "       'information', 'fin_ins_realest', 'fin_ins', 'realest_rent_lease',\n",
       "       'total_prof_sci_mgmt_admin', 'prof_sci_tech', 'mgmt', 'admin_sup',\n",
       "       'total_edu_health_social', 'edu_serv', 'health_social',\n",
       "       'total_arts_ent_acc_food', 'arts_ent_rec', 'acc_food_serv', 'other_ser',\n",
       "       'pub_admin', 'year_x', 'state', 'state_fips', 'county_y', 'county_fips',\n",
       "       'year_y', 'population', 'ps_total', 'd_selfsupplied', 'd_totaluse',\n",
       "       'ir_sprinkler', 'ir_microirrig', 'ir_surface', 'ir_total',\n",
       "       'crop_ir_sprinkler', 'crop_ir_microirrig', 'crop_ir_surface',\n",
       "       'crop_ir_total', 'therm_power', 'therm_power_oncethrough',\n",
       "       'therm_power_recirc'],\n",
       "      dtype='object')"
      ]
     },
     "execution_count": 3,
     "metadata": {},
     "output_type": "execute_result"
    }
   ],
   "source": [
    "\n",
    "df_select = join_two_datasets(read_csv('earnings'), read_csv('water_usage'), 'fips')\n",
    "df_select.columns"
   ]
  },
  {
   "cell_type": "markdown",
   "metadata": {},
   "source": [
    "## Field Descriptions"
   ]
  },
  {
   "cell_type": "code",
   "execution_count": null,
   "metadata": {},
   "outputs": [],
   "source": [
    "metrics = ['value', 'pop_served']\n",
    "df_select['total_med'].describe()"
   ]
  },
  {
   "cell_type": "markdown",
   "metadata": {},
   "source": [
    "## Scatter/Bar/Histograms"
   ]
  },
  {
   "cell_type": "code",
   "execution_count": null,
   "metadata": {},
   "outputs": [],
   "source": [
    "sns.distplot(df_select['total_med'])"
   ]
  },
  {
   "cell_type": "code",
   "execution_count": null,
   "metadata": {},
   "outputs": [],
   "source": [
    "sns.distplot(df_select['population'])"
   ]
  },
  {
   "cell_type": "code",
   "execution_count": null,
   "metadata": {},
   "outputs": [],
   "source": [
    "df_select.plot.scatter(x='population', y='total_med')"
   ]
  },
  {
   "cell_type": "markdown",
   "metadata": {},
   "source": [
    "## Categorical Variable Comparison"
   ]
  },
  {
   "cell_type": "code",
   "execution_count": null,
   "metadata": {},
   "outputs": [],
   "source": [
    "fig = sns.boxplot(x='county_x', y=\"fips\", data=df_select)"
   ]
  },
  {
   "cell_type": "markdown",
   "metadata": {},
   "source": [
    "## Correlation Matrix"
   ]
  },
  {
   "cell_type": "code",
   "execution_count": null,
   "metadata": {},
   "outputs": [],
   "source": [
    "corrmat = df_select.corr()\n",
    "sns.heatmap(corrmat, vmax=.8, square=True);"
   ]
  },
  {
   "cell_type": "code",
   "execution_count": null,
   "metadata": {},
   "outputs": [],
   "source": [
    "sns.set()\n",
    "cols = ['total_med', 'edu_serve', 'retail_trade', 'population']\n",
    "sns.pairplot(df_select[cols], size = 2.5)\n",
    "plt.show();"
   ]
  },
  {
   "cell_type": "code",
   "execution_count": null,
   "metadata": {},
   "outputs": [],
   "source": [
    "total = df_select.isnull().sum().sort_values(ascending=False)\n",
    "percent = (df_select.isnull().sum()/df_select.isnull().count()).sort_values(ascending=False)\n",
    "missing_data = pd.concat([total, percent], axis=1, keys=['Total', 'Percent'])\n",
    "missing_data.head(20)"
   ]
  },
  {
   "cell_type": "markdown",
   "metadata": {},
   "source": [
    "## Normality Plots"
   ]
  },
  {
   "cell_type": "code",
   "execution_count": null,
   "metadata": {},
   "outputs": [],
   "source": [
    "#histogram and normal probability plot\n",
    "sns.distplot(df_train['SalePrice'], fit=norm);\n",
    "fig = plt.figure()\n",
    "res = stats.probplot(df_train['SalePrice'], plot=plt)"
   ]
  },
  {
   "cell_type": "markdown",
   "metadata": {},
   "source": [
    "## Fips USA Plots"
   ]
  },
  {
   "cell_type": "code",
   "execution_count": 31,
   "metadata": {},
   "outputs": [
    {
     "data": {
      "text/html": [
       "<script>requirejs.config({paths: { 'plotly': ['https://cdn.plot.ly/plotly-latest.min']},});if(!window.Plotly) {{require(['plotly'],function(plotly) {window.Plotly=plotly;});}}</script>"
      ],
      "text/vnd.plotly.v1+html": [
       "<script>requirejs.config({paths: { 'plotly': ['https://cdn.plot.ly/plotly-latest.min']},});if(!window.Plotly) {{require(['plotly'],function(plotly) {window.Plotly=plotly;});}}</script>"
      ]
     },
     "metadata": {},
     "output_type": "display_data"
    }
   ],
   "source": [
    "from plotly import __version__\n",
    "from plotly.offline import download_plotlyjs, init_notebook_mode, plot, iplot\n",
    "import plotly.figure_factory as ff\n",
    "init_notebook_mode(connected=True)\n"
   ]
  },
  {
   "cell_type": "code",
   "execution_count": null,
   "metadata": {},
   "outputs": [],
   "source": [
    "fips = list(df_select['fips'])\n",
    "vals = list(df_select['total_med'])\n",
    "fig = ff.create_choropleth(fips=fips, values=vals)\n",
    "iplot(fig, filename='basic-correlation')"
   ]
  },
  {
   "cell_type": "markdown",
   "metadata": {},
   "source": [
    "## Chemicals Analysis"
   ]
  },
  {
   "cell_type": "code",
   "execution_count": 12,
   "metadata": {},
   "outputs": [
    {
     "data": {
      "text/html": [
       "<div>\n",
       "<style scoped>\n",
       "    .dataframe tbody tr th:only-of-type {\n",
       "        vertical-align: middle;\n",
       "    }\n",
       "\n",
       "    .dataframe tbody tr th {\n",
       "        vertical-align: top;\n",
       "    }\n",
       "\n",
       "    .dataframe thead th {\n",
       "        text-align: right;\n",
       "    }\n",
       "</style>\n",
       "<table border=\"1\" class=\"dataframe\">\n",
       "  <thead>\n",
       "    <tr style=\"text-align: right;\">\n",
       "      <th></th>\n",
       "      <th>cws_name</th>\n",
       "      <th>chemical_species</th>\n",
       "      <th>contaminant_level</th>\n",
       "      <th>county</th>\n",
       "      <th>pws_id</th>\n",
       "      <th>pop_served</th>\n",
       "      <th>state</th>\n",
       "      <th>unit_measurement</th>\n",
       "      <th>value</th>\n",
       "      <th>year</th>\n",
       "      <th>fips</th>\n",
       "      <th>state_fips</th>\n",
       "    </tr>\n",
       "  </thead>\n",
       "  <tbody>\n",
       "    <tr>\n",
       "      <th>0</th>\n",
       "      <td>CALIFORNIA WATER SERVICE - LIVERMORE</td>\n",
       "      <td>Uranium</td>\n",
       "      <td>0</td>\n",
       "      <td>Alameda</td>\n",
       "      <td>CA0110003</td>\n",
       "      <td>57200</td>\n",
       "      <td>California</td>\n",
       "      <td>micrograms/L</td>\n",
       "      <td>1.54</td>\n",
       "      <td>2000</td>\n",
       "      <td>6001</td>\n",
       "      <td>6</td>\n",
       "    </tr>\n",
       "    <tr>\n",
       "      <th>1</th>\n",
       "      <td>CITY OF LIVERMORE</td>\n",
       "      <td>Uranium</td>\n",
       "      <td>0</td>\n",
       "      <td>Alameda</td>\n",
       "      <td>CA0110011</td>\n",
       "      <td>26400</td>\n",
       "      <td>California</td>\n",
       "      <td>micrograms/L</td>\n",
       "      <td>1.64</td>\n",
       "      <td>2000</td>\n",
       "      <td>6001</td>\n",
       "      <td>6</td>\n",
       "    </tr>\n",
       "    <tr>\n",
       "      <th>2</th>\n",
       "      <td>CITY OF PLEASANTON</td>\n",
       "      <td>Uranium</td>\n",
       "      <td>0</td>\n",
       "      <td>Alameda</td>\n",
       "      <td>CA0110008</td>\n",
       "      <td>70600</td>\n",
       "      <td>California</td>\n",
       "      <td>micrograms/L</td>\n",
       "      <td>1.64</td>\n",
       "      <td>2000</td>\n",
       "      <td>6001</td>\n",
       "      <td>6</td>\n",
       "    </tr>\n",
       "    <tr>\n",
       "      <th>3</th>\n",
       "      <td>DUBLIN SAN RAMON SERVICES DISTRICT</td>\n",
       "      <td>Uranium</td>\n",
       "      <td>0</td>\n",
       "      <td>Alameda</td>\n",
       "      <td>CA0110009</td>\n",
       "      <td>72500</td>\n",
       "      <td>California</td>\n",
       "      <td>micrograms/L</td>\n",
       "      <td>1.64</td>\n",
       "      <td>2000</td>\n",
       "      <td>6001</td>\n",
       "      <td>6</td>\n",
       "    </tr>\n",
       "    <tr>\n",
       "      <th>4</th>\n",
       "      <td>NORRIS CANYON PROPERTY OWNERS ASSN</td>\n",
       "      <td>Uranium</td>\n",
       "      <td>0</td>\n",
       "      <td>Alameda</td>\n",
       "      <td>CA0103040</td>\n",
       "      <td>100</td>\n",
       "      <td>California</td>\n",
       "      <td>micrograms/L</td>\n",
       "      <td>4.51</td>\n",
       "      <td>2000</td>\n",
       "      <td>6001</td>\n",
       "      <td>6</td>\n",
       "    </tr>\n",
       "  </tbody>\n",
       "</table>\n",
       "</div>"
      ],
      "text/plain": [
       "                               cws_name chemical_species  contaminant_level  \\\n",
       "0  CALIFORNIA WATER SERVICE - LIVERMORE          Uranium                  0   \n",
       "1                     CITY OF LIVERMORE          Uranium                  0   \n",
       "2                    CITY OF PLEASANTON          Uranium                  0   \n",
       "3    DUBLIN SAN RAMON SERVICES DISTRICT          Uranium                  0   \n",
       "4    NORRIS CANYON PROPERTY OWNERS ASSN          Uranium                  0   \n",
       "\n",
       "    county     pws_id pop_served       state unit_measurement  value  year  \\\n",
       "0  Alameda  CA0110003      57200  California     micrograms/L   1.54  2000   \n",
       "1  Alameda  CA0110011      26400  California     micrograms/L   1.64  2000   \n",
       "2  Alameda  CA0110008      70600  California     micrograms/L   1.64  2000   \n",
       "3  Alameda  CA0110009      72500  California     micrograms/L   1.64  2000   \n",
       "4  Alameda  CA0103040        100  California     micrograms/L   4.51  2000   \n",
       "\n",
       "   fips  state_fips  \n",
       "0  6001           6  \n",
       "1  6001           6  \n",
       "2  6001           6  \n",
       "3  6001           6  \n",
       "4  6001           6  "
      ]
     },
     "execution_count": 12,
     "metadata": {},
     "output_type": "execute_result"
    }
   ],
   "source": [
    "# Most Impactful Chemicals\n",
    "df_chemicals = read_csv('chemicals')\n",
    "unique_chemicals = df_chemicals.chemical_species.unique()\n",
    "df_chemicals.head()"
   ]
  },
  {
   "cell_type": "code",
   "execution_count": 15,
   "metadata": {},
   "outputs": [
    {
     "data": {
      "text/plain": [
       "<matplotlib.axes._subplots.AxesSubplot at 0x13c8b0ba8>"
      ]
     },
     "execution_count": 15,
     "metadata": {},
     "output_type": "execute_result"
    },
    {
     "data": {
      "image/png": "[encoded data removed]",
      "text/plain": [
       "<Figure size 432x288 with 1 Axes>"
      ]
     },
     "metadata": {},
     "output_type": "display_data"
    }
   ],
   "source": [
    "sns.countplot(x='chemical_species', data=df_chemicals)"
   ]
  },
  {
   "cell_type": "code",
   "execution_count": 16,
   "metadata": {},
   "outputs": [
    {
     "data": {
      "text/plain": [
       "<matplotlib.axes._subplots.AxesSubplot at 0x13ca85c18>"
      ]
     },
     "execution_count": 16,
     "metadata": {},
     "output_type": "execute_result"
    },
    {
     "data": {
      "image/png": "[encoded data removed]",
      "text/plain": [
       "<Figure size 432x288 with 1 Axes>"
      ]
     },
     "metadata": {},
     "output_type": "display_data"
    }
   ],
   "source": [
    "sns.regplot(x='year', y='value', data=df_chemicals, fit_reg=True)"
   ]
  },
  {
   "cell_type": "code",
   "execution_count": null,
   "metadata": {},
   "outputs": [],
   "source": [
    "for region, df_region in df_chemicals.groupby('chemical_species'):\n",
    "    vals = []\n",
    "    years = []\n",
    "    for reg, df_reg in df_region.groupby('year'):\n",
    "        vals.append(float(df_reg[['value']].mean(skipna=True)))\n",
    "        years.append(int(reg))\n",
    "    print(type(vals))\n",
    "    print(type(years))\n",
    "    df_tmp = pd.DataFrame({'vals':vals, 'years':years})\n",
    "\n",
    "    sns.regplot(x='years', y='vals', fit_reg=True, data=tf_tmp)"
   ]
  },
  {
   "cell_type": "code",
   "execution_count": null,
   "metadata": {},
   "outputs": [],
   "source": [
    "df_industry = read_csv('industry_occupation')"
   ]
  },
  {
   "cell_type": "code",
   "execution_count": null,
   "metadata": {},
   "outputs": [],
   "source": []
  }
 ],
 "metadata": {
  "kernelspec": {
   "display_name": "Python 3",
   "language": "python",
   "name": "python3"
  },
  "language_info": {
   "codemirror_mode": {
    "name": "ipython",
    "version": 3
   },
   "file_extension": ".py",
   "mimetype": "text/x-python",
   "name": "python",
   "nbconvert_exporter": "python",
   "pygments_lexer": "ipython3",
   "version": "3.6.4"
  }
 },
 "nbformat": 4,
 "nbformat_minor": 2
}
