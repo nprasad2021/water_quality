{
 "cells": [
  {
   "cell_type": "code",
   "execution_count": null,
   "metadata": {},
   "outputs": [],
   "source": [
    "\n",
    "import pandas as pd\n",
    "import matplotlib.pyplot as plt\n",
    "import numpy as np\n",
    "from scipy.stats import norm\n",
    "from scipy import stats\n",
    "import sklearn\n",
    "import warnings\n",
    "warnings.filterwarnings('ignore')\n",
    "%matplotlib inline\n",
    "import seaborn as sns"
   ]
  },
  {
   "cell_type": "code",
   "execution_count": 2,
   "metadata": {},
   "outputs": [],
   "source": [
    "def join_two_datasets(df, other_df, fields):\n",
    "\n",
    "    df['fips'] = df['fips'].astype(int)\n",
    "    other_df['fips'] = other_df['fips'].astype(int)\n",
    "    return pd.merge(df, other_df, on=fields, how='inner')\n",
    "\n",
    "def read_csv(df_name):\n",
    "    return pd.read_csv(df_name + '_processed.csv')"
   ]
  },
  {
   "cell_type": "code",
   "execution_count": null,
   "metadata": {},
   "outputs": [],
   "source": [
    "from plotly import __version__\n",
    "from plotly.offline import download_plotlyjs, init_notebook_mode, plot, iplot\n",
    "import plotly.figure_factory as ff\n",
    "import plotly.io as pio\n",
    "init_notebook_mode(connected=True)\n",
    "print(1)"
   ]
  },
  {
   "cell_type": "code",
   "execution_count": null,
   "metadata": {},
   "outputs": [],
   "source": [
    "df_chemicals = read_csv('chemicals')\n",
    "df_chemicals.head()"
   ]
  },
  {
   "cell_type": "code",
   "execution_count": null,
   "metadata": {},
   "outputs": [],
   "source": [
    "def create_plotly_map(fips, vals, filename, display=False):\n",
    "    fips = list(fips)\n",
    "    vals = list(vals)\n",
    "    fig = ff.create_choropleth(fips=fips, values=vals)\n",
    "    print('created figure')\n",
    "    pio.write_image(fig, filename)\n",
    "    print('writing figure')\n",
    "    if display:\n",
    "        print('drawing figure')\n",
    "        iplot(fig, filename=filename)\n",
    "    print('done')"
   ]
  },
  {
   "cell_type": "code",
   "execution_count": null,
   "metadata": {},
   "outputs": [],
   "source": [
    "#df_chemicals_new = df_chemicals.drop(columns=['unit_measurement', 'state', 'pws_id', 'county', 'cws_name', 'state_fips'])\n",
    "#df_chemicals_new.head()"
   ]
  },
  {
   "cell_type": "code",
   "execution_count": null,
   "metadata": {},
   "outputs": [],
   "source": [
    "fips_ids = []\n",
    "contaminant_levels = []\n",
    "population_served = []\n",
    "df_chemicals = df_chemicals.dropna()\n",
    "df_chemicals = df_chemicals[df_chemicals['year'] == 2016]\n",
    "df_chemicals.pop_served = df_chemicals.pop_served.astype(int)\n",
    "for region, df_region in df_chemicals.groupby('fips'):\n",
    "    fips_ids.append(region)\n",
    "    contaminant_levels.append(sum(df_region.value))\n",
    "    population_served.append(sum(df_region.pop_served))\n",
    "print(len(fips_ids))\n",
    "print(len(contaminant_levels))\n",
    "print(len(population_served))\n"
   ]
  },
  {
   "cell_type": "code",
   "execution_count": null,
   "metadata": {},
   "outputs": [],
   "source": [
    "create_plotly_map(fips_ids, population_served, 'population_map_2016.png')"
   ]
  },
  {
   "cell_type": "code",
   "execution_count": null,
   "metadata": {},
   "outputs": [],
   "source": [
    "create_plotly_map(fips_ids, contaminant_levels, 'contaminant_map_2016.png')"
   ]
  },
  {
   "cell_type": "code",
   "execution_count": null,
   "metadata": {},
   "outputs": [],
   "source": [
    "print(sum(df_chemicals['state_fips'] == 48))"
   ]
  },
  {
   "cell_type": "code",
   "execution_count": null,
   "metadata": {},
   "outputs": [],
   "source": [
    "df_chemicals = read_csv('earnings')\n",
    "fips_ids = []\n",
    "median_earnings = []\n",
    "df_chemicals = df_chemicals.dropna()\n",
    "df_chemicals = df_chemicals[df_chemicals['year'] == 2016]\n",
    "for region, df_region in df_chemicals.groupby('fips'):\n",
    "    fips_ids.append(region)\n",
    "    median_earnings.append(sum(df_region.total_med))\n",
    "df_chemicals.head()\n",
    "create_plotly_map(fips_ids, median_earnings, 'earnings_map_2016.png')"
   ]
  },
  {
   "cell_type": "code",
   "execution_count": null,
   "metadata": {},
   "outputs": [],
   "source": [
    "df_chemicals = read_csv('chemicals')\n",
    "df_chemicals = df_chemicals[df_chemicals['chemical_species'] == 'Nitrates']\n",
    "print(len(df_chemicals))\n",
    "print(len(df_chemicals.fips.unique()))\n",
    "df_earnings = read_csv('earnings')\n",
    "df_industry = read_csv('industry_occupation')"
   ]
  },
  {
   "cell_type": "code",
   "execution_count": null,
   "metadata": {},
   "outputs": [],
   "source": [
    "average_by_fips = df_earnings.groupby(\"fips\")\n",
    "fips = []\n",
    "yrs = []\n",
    "avg_values = []\n",
    "\n",
    "for g in average_by_fips:\n",
    "    fips.append(g[0])\n",
    "    avg_values.append(np.mean(g[1][\"total_med\"]))\n",
    "fip_to_earnings = dict(zip(fips, avg_values))"
   ]
  },
  {
   "cell_type": "code",
   "execution_count": null,
   "metadata": {},
   "outputs": [],
   "source": [
    "average_by_fips = df_chemicals.groupby(\"fips\")\n",
    "fips = []\n",
    "yrs = []\n",
    "avg_values = []\n",
    "\n",
    "for g in average_by_fips:\n",
    "    fips.append(g[0])\n",
    "    avg_values.append(np.mean(g[1][\"value\"]))\n",
    "fip_to_contamination = dict(zip(fips, avg_values))"
   ]
  },
  {
   "cell_type": "code",
   "execution_count": null,
   "metadata": {},
   "outputs": [],
   "source": [
    "contamination_to_earnings = {}\n",
    "contam = []\n",
    "earn = []\n",
    "for fip in fip_to_earnings:\n",
    "    if fip in fip_to_contamination:\n",
    "        contam.append(fip_to_contamination[fip])\n",
    "        earn.append(fip_to_earnings[fip])\n",
    "        contamination_to_earnings[fip_to_contamination[fip]] = fip_to_earnings[fip]\n",
    "print(len(contam))\n",
    "print(len(earn))"
   ]
  },
  {
   "cell_type": "code",
   "execution_count": null,
   "metadata": {},
   "outputs": [],
   "source": [
    "stats.pearsonr(contam, earn)"
   ]
  },
  {
   "cell_type": "code",
   "execution_count": 3,
   "metadata": {},
   "outputs": [],
   "source": [
    "df_industry = read_csv('industry_occupation')"
   ]
  },
  {
   "cell_type": "code",
   "execution_count": 4,
   "metadata": {},
   "outputs": [
    {
     "data": {
      "text/plain": [
       "Index(['geo_id', 'fips', 'county', 'total_employed', 'agriculture',\n",
       "       'construction', 'manufacturing', 'wholesale_trade', 'retail_trade',\n",
       "       'transport_utilities', 'information', 'finance_insurance_realestate',\n",
       "       'prof_scientific_waste', 'edu_health', 'arts_recreation', 'other',\n",
       "       'public_admin', 'year'],\n",
       "      dtype='object')"
      ]
     },
     "execution_count": 4,
     "metadata": {},
     "output_type": "execute_result"
    }
   ],
   "source": [
    "df_industry.columns"
   ]
  },
  {
   "cell_type": "code",
   "execution_count": 5,
   "metadata": {},
   "outputs": [
    {
     "data": {
      "text/html": [
       "<div>\n",
       "<style scoped>\n",
       "    .dataframe tbody tr th:only-of-type {\n",
       "        vertical-align: middle;\n",
       "    }\n",
       "\n",
       "    .dataframe tbody tr th {\n",
       "        vertical-align: top;\n",
       "    }\n",
       "\n",
       "    .dataframe thead th {\n",
       "        text-align: right;\n",
       "    }\n",
       "</style>\n",
       "<table border=\"1\" class=\"dataframe\">\n",
       "  <thead>\n",
       "    <tr style=\"text-align: right;\">\n",
       "      <th></th>\n",
       "      <th>geo_id</th>\n",
       "      <th>fips</th>\n",
       "      <th>county</th>\n",
       "      <th>total_employed</th>\n",
       "      <th>agriculture</th>\n",
       "      <th>construction</th>\n",
       "      <th>manufacturing</th>\n",
       "      <th>wholesale_trade</th>\n",
       "      <th>retail_trade</th>\n",
       "      <th>transport_utilities</th>\n",
       "      <th>information</th>\n",
       "      <th>finance_insurance_realestate</th>\n",
       "      <th>prof_scientific_waste</th>\n",
       "      <th>edu_health</th>\n",
       "      <th>arts_recreation</th>\n",
       "      <th>other</th>\n",
       "      <th>public_admin</th>\n",
       "      <th>year</th>\n",
       "    </tr>\n",
       "  </thead>\n",
       "  <tbody>\n",
       "    <tr>\n",
       "      <th>0</th>\n",
       "      <td>0500000US01003</td>\n",
       "      <td>1003</td>\n",
       "      <td>Baldwin County, Alabama</td>\n",
       "      <td>77263.0</td>\n",
       "      <td>1302.0</td>\n",
       "      <td>6489.0</td>\n",
       "      <td>6134.0</td>\n",
       "      <td>2131.0</td>\n",
       "      <td>9525.0</td>\n",
       "      <td>3557.0</td>\n",
       "      <td>940.0</td>\n",
       "      <td>5893.0</td>\n",
       "      <td>9873.0</td>\n",
       "      <td>14753.0</td>\n",
       "      <td>8257.0</td>\n",
       "      <td>3575.0</td>\n",
       "      <td>4834.0</td>\n",
       "      <td>2010</td>\n",
       "    </tr>\n",
       "    <tr>\n",
       "      <th>1</th>\n",
       "      <td>0500000US01015</td>\n",
       "      <td>1015</td>\n",
       "      <td>Calhoun County, Alabama</td>\n",
       "      <td>42768.0</td>\n",
       "      <td>337.0</td>\n",
       "      <td>1371.0</td>\n",
       "      <td>7868.0</td>\n",
       "      <td>750.0</td>\n",
       "      <td>5706.0</td>\n",
       "      <td>1626.0</td>\n",
       "      <td>779.0</td>\n",
       "      <td>2234.0</td>\n",
       "      <td>3776.0</td>\n",
       "      <td>8351.0</td>\n",
       "      <td>3799.0</td>\n",
       "      <td>2440.0</td>\n",
       "      <td>3731.0</td>\n",
       "      <td>2010</td>\n",
       "    </tr>\n",
       "    <tr>\n",
       "      <th>6</th>\n",
       "      <td>0500000US01069</td>\n",
       "      <td>1069</td>\n",
       "      <td>Houston County, Alabama</td>\n",
       "      <td>45470.0</td>\n",
       "      <td>790.0</td>\n",
       "      <td>2967.0</td>\n",
       "      <td>4237.0</td>\n",
       "      <td>1897.0</td>\n",
       "      <td>6225.0</td>\n",
       "      <td>2838.0</td>\n",
       "      <td>670.0</td>\n",
       "      <td>1980.0</td>\n",
       "      <td>3458.0</td>\n",
       "      <td>9843.0</td>\n",
       "      <td>5200.0</td>\n",
       "      <td>2658.0</td>\n",
       "      <td>2707.0</td>\n",
       "      <td>2010</td>\n",
       "    </tr>\n",
       "    <tr>\n",
       "      <th>7</th>\n",
       "      <td>0500000US01073</td>\n",
       "      <td>1073</td>\n",
       "      <td>Jefferson County, Alabama</td>\n",
       "      <td>289454.0</td>\n",
       "      <td>1761.0</td>\n",
       "      <td>17682.0</td>\n",
       "      <td>27091.0</td>\n",
       "      <td>8859.0</td>\n",
       "      <td>34024.0</td>\n",
       "      <td>14727.0</td>\n",
       "      <td>8309.0</td>\n",
       "      <td>25021.0</td>\n",
       "      <td>29164.0</td>\n",
       "      <td>67630.0</td>\n",
       "      <td>26357.0</td>\n",
       "      <td>15828.0</td>\n",
       "      <td>13001.0</td>\n",
       "      <td>2010</td>\n",
       "    </tr>\n",
       "    <tr>\n",
       "      <th>8</th>\n",
       "      <td>0500000US01077</td>\n",
       "      <td>1077</td>\n",
       "      <td>Lauderdale County, Alabama</td>\n",
       "      <td>39581.0</td>\n",
       "      <td>946.0</td>\n",
       "      <td>3579.0</td>\n",
       "      <td>4285.0</td>\n",
       "      <td>1364.0</td>\n",
       "      <td>6047.0</td>\n",
       "      <td>2474.0</td>\n",
       "      <td>439.0</td>\n",
       "      <td>1771.0</td>\n",
       "      <td>2710.0</td>\n",
       "      <td>8624.0</td>\n",
       "      <td>3551.0</td>\n",
       "      <td>3148.0</td>\n",
       "      <td>643.0</td>\n",
       "      <td>2010</td>\n",
       "    </tr>\n",
       "  </tbody>\n",
       "</table>\n",
       "</div>"
      ],
      "text/plain": [
       "           geo_id  fips                      county  total_employed  \\\n",
       "0  0500000US01003  1003     Baldwin County, Alabama         77263.0   \n",
       "1  0500000US01015  1015     Calhoun County, Alabama         42768.0   \n",
       "6  0500000US01069  1069     Houston County, Alabama         45470.0   \n",
       "7  0500000US01073  1073   Jefferson County, Alabama        289454.0   \n",
       "8  0500000US01077  1077  Lauderdale County, Alabama         39581.0   \n",
       "\n",
       "   agriculture  construction  manufacturing  wholesale_trade  retail_trade  \\\n",
       "0       1302.0        6489.0         6134.0           2131.0        9525.0   \n",
       "1        337.0        1371.0         7868.0            750.0        5706.0   \n",
       "6        790.0        2967.0         4237.0           1897.0        6225.0   \n",
       "7       1761.0       17682.0        27091.0           8859.0       34024.0   \n",
       "8        946.0        3579.0         4285.0           1364.0        6047.0   \n",
       "\n",
       "   transport_utilities  information  finance_insurance_realestate  \\\n",
       "0               3557.0        940.0                        5893.0   \n",
       "1               1626.0        779.0                        2234.0   \n",
       "6               2838.0        670.0                        1980.0   \n",
       "7              14727.0       8309.0                       25021.0   \n",
       "8               2474.0        439.0                        1771.0   \n",
       "\n",
       "   prof_scientific_waste  edu_health  arts_recreation    other  public_admin  \\\n",
       "0                 9873.0     14753.0           8257.0   3575.0        4834.0   \n",
       "1                 3776.0      8351.0           3799.0   2440.0        3731.0   \n",
       "6                 3458.0      9843.0           5200.0   2658.0        2707.0   \n",
       "7                29164.0     67630.0          26357.0  15828.0       13001.0   \n",
       "8                 2710.0      8624.0           3551.0   3148.0         643.0   \n",
       "\n",
       "   year  \n",
       "0  2010  \n",
       "1  2010  \n",
       "6  2010  \n",
       "7  2010  \n",
       "8  2010  "
      ]
     },
     "execution_count": 5,
     "metadata": {},
     "output_type": "execute_result"
    }
   ],
   "source": [
    "fips_to_agro = {}\n",
    "df_industry = df_industry.dropna(subset=['agriculture'])\n",
    "df_industry.head()\n",
    "\n"
   ]
  },
  {
   "cell_type": "code",
   "execution_count": 6,
   "metadata": {},
   "outputs": [],
   "source": [
    "fips_names = list(df_industry.fips)\n",
    "agro_names = list(df_industry.agriculture)\n",
    "for f, a in zip(fips_names, agro_names):\n",
    "    fips_to_agro[f] = a"
   ]
  },
  {
   "cell_type": "code",
   "execution_count": 7,
   "metadata": {},
   "outputs": [],
   "source": [
    "df_chemicals = read_csv('chemicals')\n",
    "df_chemicals = df_chemicals[df_chemicals['chemical_species'] == 'Nitrates']\n",
    "df_chemicals.dropna()\n",
    "average_by_fips = df_chemicals.groupby(\"fips\")\n",
    "fips_to_contam = {}\n",
    "for g in average_by_fips:\n",
    "    fips_to_contam[g[0]] = np.mean(g[1][\"value\"])"
   ]
  },
  {
   "cell_type": "code",
   "execution_count": 8,
   "metadata": {},
   "outputs": [
    {
     "name": "stdout",
     "output_type": "stream",
     "text": [
      "[1225.8490566037735, 1328.4028776978416, 1540.7628865979382, 389.0, 2267.772466539197, 822.4603174603175, 775.0909090909091, 2828.9590202543573, 529.8979591836735, 1787.1815718157181, 1309.1601866251945, 1026.3057324840765, 678.3262711864406, 3019.135802469136, 3114.295719844358, 657.5945017182131, 452.3478260869565, 1367.371794871795, 368.1372549019608, 2172.5050709939146, 1384.9065420560748, 2110.2448979591836, 1694.6320346320347, 198.955223880597, 2400.4065040650407, 1899.6184210526317, 610.079575596817, 1726.848, 2769.6559633027523, 1042.837837837838, 991.8712574850299, 949.84375, 1315.0705270972533, 3403.850855745721, 4271.789473684211, 5103.303085299455, 2111.625, 3489.468085106383, 712.6422764227642, 941.5486725663717, 348.94329896907215, 35.55555555555556, 101.11111111111111, 230.87570621468927, 1300.028409090909, 992.5133689839572, 552.9591836734694, 344.8292682926829, 1202.2926829268292, 1344.2173913043478, 1783.7142857142858, 1694.4695898161244, 1193.6963696369637, 954.9316770186335, 1420.8126410835214, 1332.2955523672883, 627.3015873015873, 1287.0229007633588, 756.1417322834645, 65.48780487804878, 154.52153110047846, 495.4122621564482, 90.18867924528301, 360.17334777898157, 110.54263565891473, 109.53488372093024, 65.04255319148936, 1026.3849765258217, 359.42622950819674, 606.9029850746268, 1021.9761560693642, 101.85185185185185, 726.3498263888889, 79.65250965250965, 420.3480278422274, 84.23076923076923, 1390.36873747495, 160.11673151750972, 1587.0093457943926, 193.33333333333334, 50.61046511627907, 331.4732142857143, 130.67594433399603, 176.0997732426304, 1755.3218210361067, 585.2258064516129, 439.6777905638665, 86.99421965317919, 128.93557422969187, 991.3675213675214, 62.28448275862069, 111.15823817292006, 353.24858757062145, 1783.2947976878613, 1393.978102189781, 828.9878542510121, 584.4205298013245, 828.255033557047, 1517.2527472527472, 1907.4566473988439, 526.5914221218961, 377.14912280701753, 1256.0855263157894, 1914.7777777777778, 362.80898876404495, 571.4285714285714, 1251.2849162011173, 3380.511811023622, 1908.75, 892.5714285714286, 2694.9333333333334, 2641.304347826087, 385.55555555555554, 357.77777777777777, 1606.6666666666667, 863.3333333333334, 755.0, 743.6111111111111, 235.92592592592592, 1003.3333333333334, 1941.111111111111, 371.79419525065964, 1616.5573770491803, 521.2903225806451, 317.78443113772454, 843.3408323959505, 320.2344827586207, 584.7395833333334, 673.1982942430703, 2765.4421768707484, 210.16806722689077, 4467.710843373494, 1601.3642960812772, 117.72058823529412, 3135.088105726872, 2558.0730897009967, 4510.833333333333, 2200.612244897959, 77.82608695652173, 54.81292517006803, 1979.967213114754, 2530.8311688311687, 1829.4117647058824, 1005.7964601769911, 347.8817733990148, 1073.361581920904, 905.8880778588808, 403.04945054945057, 646.8125, 1056.1881188118812, 940.6613756613757, 1573.80658436214, 968.8125, 86.47058823529412, 731.9702338766832, 105.42372881355932, 454.380664652568, 381.7647058823529, 673.6134453781513, 141.39107611548556, 254.13669064748203, 142.34177215189874, 96.86170212765957, 234.6138996138996, 1654.763779527559, 1488.5039370078741, 615.0970017636685, 928.069105691057, 255.11560693641619, 31.956521739130434, 105.55555555555556, 662.6300578034682, 168.91304347826087, 161.07843137254903, 86.56716417910448, 166.71586715867159, 540.5486968449932, 86.77966101694915, 345.6521739130435, 308.1877022653722, 106.64179104477611, 942.0754716981132, 97.10247349823321, 261.1904761904762, 1717.142857142857, 622.262156448203, 483.8334778837814, 733.9580908032596, 472.0816864295125, 539.1542649727768, 657.027027027027, 807.8383458646616, 2780.5729166666665, 401.30486358244366, 1032.931937172775, 443.24120603015075, 3836.8265682656825, 1840.2877697841727, 1188.1121495327102, 912.6666666666666, 2536.2131519274376, 1742.3595505617977, 1070.7589285714287, 205.45454545454547, 1653.0126002290951, 362.87539936102235, 1390.7668711656443, 1560.3819444444443, 3281.875, 2146.7724288840263, 1911.2903225806451, 2394.6938775510203, 1164.9418604651162, 492.4755700325733, 3441.9883040935674, 138.91472868217053, 398.69662921348316, 183.30739299610894, 1476.3477088948787, 545.3846153846154, 227.27272727272728, 675.1168831168832, 1353.425, 1260.5072463768115, 638.7608069164265, 831.9844357976654, 346.8937875751503, 1257.2142857142858, 513.7184115523465, 700.4428904428904, 607.9473684210526, 1316.0994764397906, 261.47058823529414, 3420.5574912891984, 157.14285714285714, 186.54952076677316, 1339.9043977055449, 1637.2248803827752, 1280.8424908424909, 548.2657120127287, 1202.5057471264367, 1115.772797527048, 674.0574506283663, 1062.5365853658536, 620.0626959247649, 1106.9960079840318, 786.0693641618498, 1376.6011787819255, 1763.6363636363637, 591.4391691394659, 578.1782945736434, 526.779303062302, 444.69208211143695, 1446.6666666666667, 967.0104068117313, 944.7244094488188, 624.375, 729.8601398601398, 554.0, 877.1428571428571, 501.91358024691357, 1383.848167539267, 799.1666666666666, 482.3636363636364, 2037.2340425531916, 536.8421052631579, 573.4444444444445, 1764.155844155844, 1809.8461538461538, 983.8541666666666, 1071.4285714285713, 1681.7355371900826, 1108.984375, 1236.583850931677, 1356.2264150943397, 1306.0, 1510.1333333333334, 607.0689655172414, 519.4444444444445, 967.112676056338, 502.61538461538464, 1016.6187050359712, 729.5238095238095, 1237.179487179487, 1624.79797979798, 1372.4193548387098, 632.0, 1386.868131868132, 489.3333333333333, 923.3333333333334, 717.5598086124402, 532.8612716763006, 1098.8950276243095, 205.16949152542372, 1034.9802371541502, 381.92, 1084.9745676500509, 1613.5714285714287, 962.796697626419, 495.76576576576576, 1370.233918128655, 1475.8294930875577, 595.6506849315068, 630.2348993288591, 2304.9767441860463, 898.9490445859873, 646.7469879518072, 888.2710280373832, 2499.9239864864867, 1411.52466367713, 1867.6299559471365, 336.6491458607096, 580.2559055118111, 843.0511811023622, 1671.4758620689656, 4046.3811728395062, 242.16417910447763, 2298.1672025723474, 547.8233438485804, 2398.148893360161, 2444.008908685969, 3410.3883495145633, 1271.8194444444443, 481.0740740740741, 1652.915057915058, 514.169741697417, 742.7903469079939, 4716.406619385343, 499.41011235955057, 2288.22265625, 3180.780780780781, 916.6760762173607, 1678.1560283687943, 507.63940520446096, 721.2200956937799, 2313.96255850234, 2644.79754601227, 1931.725888324873, 2636.1111111111113, 940.9156976744187, 351.55629139072846, 627.3076923076923, 656.4516129032259, 3654.8348017621147, 860.6506849315068, 715.921052631579, 25.766871165644172, 40.80357142857143, 85.15151515151516, 12.653061224489797, 19.677419354838708, 535.3571428571429, 98.96103896103897, 863.789592760181, 476.5040650406504, 152.5974025974026, 504.0057636887608, 682.2222222222222, 1848.7551867219918, 1087.7941176470588, 1518.3473389355743, 1750.0, 1263.5758835758836, 730.0170357751277, 806.9831223628692, 610.0557103064067, 265.37513997760357, 2701.9314079422384, 1288.994708994709, 841.3340935005701, 1198.1701030927834, 631.9935691318328, 4573.294797687861, 3042.1945945945945, 526.2025316455696, 971.4503133393017, 799.102833158447, 593.1359044995409, 866.4804469273743, 1066.96925329429, 572.5631067961165, 1218.5642317380352, 2043.0585516178737, 1626.051227321238, 2194.8478099480326, 1827.4316487158244, 1169.10780669145, 517.0, 291.3636363636364, 597.0967741935484, 409.3333333333333, 2002.808988764045, 73.24675324675324, 1554.3417366946778, 495.53435114503816, 2613.053435114504, 869.9022801302932, 1670.0393700787401, 263.6061381074169, 1168.6792452830189, 2807.3333333333335, 2959.964285714286, 203.77551020408163, 164.57142857142858, 136.28389154704945, 4990.25, 214.81203007518798, 2602.8643216080404, 2741.72, 432.63440860215053, 753.8972809667674, 676.5868263473054, 436.9003285870756, 346.7307692307692, 1116.0544217687075]\n",
      "[2289.0, 4048.0, 2674.0, 1301.0, 31991.0, 2798.0, 5536.0, 52040.0, 7336.0, 19670.0, 8090.0, 884.0, 1842.0, 12813.0, 36708.0, 4063.0, 508.0, 8743.0, 802.0, 14116.0, 5748.0, 7116.0, 15749.0, 1308.0, 12574.0, 3840.0, 1577.0, 22760.0, 4378.0, 6752.0, 1706.0, 4150.0, 5661.0, 13264.0, 4372.0, 28946.0, 29111.0, 4484.0, 4328.0, 3048.0, 1982.0, 252.0, 3175.0, 2126.0, 1532.0, 4090.0, 3048.0, 2937.0, 871.0, 7730.0, 1439.0, 727.0, 1018.0, 532.0, 672.0, 1066.0, 764.0, 238.0, 1074.0, 745.0, 1903.0, 2718.0, 464.0, 412.0, 320.0, 4877.0, 828.0, 836.0, 213.0, 421.0, 9072.0, 906.0, 1602.0, 2421.0, 413.0, 1346.0, 3898.0, 2100.0, 9929.0, 959.0, 453.0, 2946.0, 541.0, 4177.0, 1262.0, 1136.0, 4453.0, 641.0, 1879.0, 921.0, 1953.0, 903.0, 1310.0, 769.0, 977.0, 900.0, 713.0, 973.0, 3037.0, 1087.0, 879.0, 1297.0, 1465.0, 346.0, 364.0, 1342.0, 706.0, 1817.0, 362.0, 426.0, 287.0, 673.0, 562.0, 2364.0, 453.0, 1100.0, 233.0, 529.0, 197.0, 136.0, 466.0, 844.0, 1260.0, 1109.0, 1092.0, 1053.0, 452.0, 322.0, 408.0, 1048.0, 400.0, 883.0, 722.0, 6.0, 971.0, 340.0, 343.0, 1899.0, 574.0, 506.0, 690.0, 653.0, 460.0, 1074.0, 687.0, 2979.0, 1987.0, 655.0, 1184.0, 628.0, 1397.0, 523.0, 1590.0, 425.0, 2151.0, 755.0, 793.0, 704.0, 1400.0, 3354.0, 687.0, 564.0, 1361.0, 3035.0, 1046.0, 643.0, 2920.0, 1221.0, 1034.0, 1071.0, 384.0, 391.0, 502.0, 509.0, 477.0, 589.0, 690.0, 828.0, 1861.0, 1025.0, 424.0, 553.0, 693.0, 1877.0, 469.0, 218.0, 212.0, 676.0, 549.0, 745.0, 526.0, 168.0, 539.0, 751.0, 231.0, 482.0, 3793.0, 522.0, 1266.0, 291.0, 821.0, 583.0, 366.0, 679.0, 607.0, 633.0, 480.0, 654.0, 811.0, 1155.0, 222.0, 658.0, 2377.0, 2104.0, 5239.0, 862.0, 583.0, 5057.0, 1022.0, 216.0, 524.0, 396.0, 614.0, 1475.0, 1345.0, 665.0, 1443.0, 1998.0, 2584.0, 1097.0, 1049.0, 1438.0, 1137.0, 1358.0, 274.0, 638.0, 1758.0, 1812.0, 668.0, 1604.0, 1131.0, 103.0, 432.0, 200.0, 1733.0, 949.0, 45.0, 1826.0, 4105.0, 661.0, 680.0, 599.0, 263.0, 2152.0, 1305.0, 1077.0, 516.0, 977.0, 559.0, 294.0, 491.0, 307.0, 418.0, 550.0, 411.0, 1133.0, 444.0, 616.0, 663.0, 995.0, 806.0, 1493.0, 887.0, 1529.0, 614.0, 919.0, 2456.0, 251.0, 1321.0, 333.0, 1900.0, 1435.0, 1466.0, 822.0, 573.0, 927.0, 1222.0, 2066.0, 2936.0, 420.0, 1446.0, 4709.0, 1058.0, 2308.0, 3434.0, 2137.0, 3065.0, 2368.0, 9681.0, 3898.0, 1493.0, 3053.0, 3416.0, 4969.0, 1319.0, 4614.0, 1068.0, 621.0, 4006.0, 1159.0, 1012.0, 1201.0, 1013.0, 592.0, 738.0, 4552.0, 1223.0, 642.0, 1083.0, 1184.0, 1116.0, 897.0, 914.0, 1197.0, 2261.0, 2100.0, 340.0, 5194.0, 1150.0, 1248.0, 1499.0, 1105.0, 1519.0, 672.0, 352.0, 1141.0, 1698.0, 554.0, 2789.0, 1604.0, 950.0, 2861.0, 1566.0, 1986.0, 899.0, 951.0, 648.0, 750.0, 239.0, 293.0, 498.0, 3047.0, 1602.0, 815.0, 800.0, 649.0, 696.0, 387.0, 668.0, 803.0, 1436.0, 588.0, 5623.0, 2288.0, 1077.0, 1228.0, 649.0, 3066.0, 3760.0, 1384.0, 1499.0, 1056.0, 7203.0, 9598.0, 974.0, 293.0, 6293.0, 684.0, 2245.0, 3290.0, 2393.0, 2569.0, 3030.0, 1949.0, 2930.0, 17978.0, 466.0, 768.0, 1227.0, 888.0, 1089.0, 230.0, 2137.0, 3055.0, 1826.0, 848.0, 1546.0, 1296.0, 464.0, 799.0, 1391.0, 2736.0, 2649.0, 1079.0, 282.0, 1326.0, 1125.0, 1588.0, 1833.0, 1374.0, 1031.0, 747.0, 1336.0, 471.0, 1664.0]\n"
     ]
    },
    {
     "data": {
      "text/plain": [
       "(0.31907991602105085, 2.827167976404234e-11)"
      ]
     },
     "execution_count": 8,
     "metadata": {},
     "output_type": "execute_result"
    }
   ],
   "source": [
    "\n",
    "contam = []\n",
    "agro = []\n",
    "for fip in fips_to_contam:\n",
    "    if fip in fips_to_agro:\n",
    "        contam.append(fips_to_contam[fip])\n",
    "        agro.append(fips_to_agro[fip])\n",
    "print(contam)\n",
    "print(agro)\n",
    "stats.pearsonr(contam, agro)"
   ]
  },
  {
   "cell_type": "code",
   "execution_count": null,
   "metadata": {},
   "outputs": [],
   "source": [
    "import seaborn as sns"
   ]
  },
  {
   "cell_type": "code",
   "execution_count": null,
   "metadata": {},
   "outputs": [],
   "source": [
    "plt.figure()\n",
    "plt.title('Relation between Agriculture Workforce and Nitrate Contamination')\n",
    "plt.scatter(agro, contam)\n",
    "plt.xlabel('Agriculture Workforce P')\n",
    "plt.savefig('chemicals_workforce.png')"
   ]
  },
  {
   "cell_type": "code",
   "execution_count": null,
   "metadata": {},
   "outputs": [],
   "source": []
  }
 ],
 "metadata": {
  "kernelspec": {
   "display_name": "Python 3",
   "language": "python",
   "name": "python3"
  },
  "language_info": {
   "codemirror_mode": {
    "name": "ipython",
    "version": 3
   },
   "file_extension": ".py",
   "mimetype": "text/x-python",
   "name": "python",
   "nbconvert_exporter": "python",
   "pygments_lexer": "ipython3",
   "version": "3.6.4"
  }
 },
 "nbformat": 4,
 "nbformat_minor": 2
}
